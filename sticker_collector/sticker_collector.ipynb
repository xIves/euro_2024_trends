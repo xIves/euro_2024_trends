{
 "cells": [
  {
   "attachments": {},
   "cell_type": "markdown",
   "id": "deluxe-retention",
   "metadata": {},
   "source": [
    "# Optical Character Recognition (OCR) Topps Sticker"
   ]
  },
  {
   "attachments": {},
   "cell_type": "markdown",
   "id": "unique-laugh",
   "metadata": {},
   "source": [
    "## Libraries and settings"
   ]
  },
  {
   "cell_type": "code",
   "execution_count": 39,
   "id": "narrow-essay",
   "metadata": {},
   "outputs": [
    {
     "name": "stdout",
     "output_type": "stream",
     "text": [
      "/Users/ivesbrunner/Documents/Studium/01_Bachelor/04_Semester/04_ScientificProgramming/euro_2024_trends/sticker_collector\n"
     ]
    }
   ],
   "source": [
    "# Libraries\n",
    "import os\n",
    "import re\n",
    "import cv2\n",
    "import pytesseract\n",
    "from pytesseract import Output\n",
    "import PIL\n",
    "from PIL import Image\n",
    "import fnmatch\n",
    "import tempfile\n",
    "import psycopg2\n",
    "import pandas as pd\n",
    "from sqlalchemy import create_engine\n",
    "\n",
    "# Ignore warnings\n",
    "import warnings\n",
    "warnings.filterwarnings('ignore')\n",
    "\n",
    "# Show current working directory\n",
    "print(os.getcwd())"
   ]
  },
  {
   "attachments": {},
   "cell_type": "markdown",
   "id": "cac6d63a",
   "metadata": {},
   "source": [
    "## Read data from image"
   ]
  },
  {
   "cell_type": "markdown",
   "id": "ce3fbee3",
   "metadata": {},
   "source": [
    "### Open and crop image"
   ]
  },
  {
   "cell_type": "code",
   "execution_count": 40,
   "id": "dead4546",
   "metadata": {},
   "outputs": [],
   "source": [
    "# Import the Image module from the PIL library\n",
    "from PIL import Image\n",
    "\n",
    "# Define the path to the image\n",
    "image_path = './stickers/sticker_example.jpeg'\n",
    "\n",
    "# Open the image using the path\n",
    "image = Image.open(image_path)\n",
    "\n",
    "# Get the size of the image (width and height)\n",
    "width, height = image.size\n",
    "\n",
    "# Define the dimensions for cropping\n",
    "# We start from (1100, 800) and go till the image's width and height minus 500\n",
    "crop_dimensions = (1100, 800, width, height-500)\n",
    "\n",
    "# Crop the image using the defined dimensions\n",
    "cropped_image = image.crop(crop_dimensions)"
   ]
  },
  {
   "cell_type": "markdown",
   "id": "c698fb3e",
   "metadata": {},
   "source": [
    "### Sticker class"
   ]
  },
  {
   "cell_type": "code",
   "execution_count": null,
   "id": "6691fabc",
   "metadata": {},
   "outputs": [],
   "source": [
    "class Sticker:\n",
    "    def __init__(self, team, number):\n",
    "        self.team = team\n",
    "        self.number = number"
   ]
  },
  {
   "cell_type": "markdown",
   "id": "f4428fc8",
   "metadata": {},
   "source": [
    "### Read team and number sticker"
   ]
  },
  {
   "cell_type": "code",
   "execution_count": 41,
   "id": "cb553ddf",
   "metadata": {},
   "outputs": [
    {
     "name": "stdout",
     "output_type": "stream",
     "text": [
      "Found sticker with the following information:\n",
      "Team:  ESP\n",
      "Number:  20\n"
     ]
    }
   ],
   "source": [
    "# Convert the cropped image to text using pytesseract\n",
    "# The '--psm 11' config option stands for 'Sparse text. Find as much text as possible in no particular order.'\n",
    "text = pytesseract.image_to_string(cropped_image, config='--psm 11')\n",
    "\n",
    "# Use a regular expression to replace all occurrences of multiple line breaks with a single line break\n",
    "text = re.sub(r'\\n+', '\\n', text)\n",
    "\n",
    "# Split the text by line breaks and get the first line as the team\n",
    "team = text.split('\\n')[0]\n",
    "\n",
    "# Split the text by line breaks and get the second line as the number\n",
    "number = text.split('\\n')[1]\n",
    "\n",
    "# Initalize the sticker object\n",
    "sticker = Sticker(team, number)\n",
    "\n",
    "# Print the found sticker information\n",
    "print(\"Found sticker with the following information:\")\n",
    "print(\"Team: \", sticker.team)\n",
    "print(\"Number: \", sticker.number)"
   ]
  },
  {
   "cell_type": "markdown",
   "id": "piano-council",
   "metadata": {},
   "source": [
    "## Add sticker to collection if not owned yet (Postgres)"
   ]
  },
  {
   "cell_type": "markdown",
   "id": "f2222e2c",
   "metadata": {},
   "source": [
    "### Create database connection"
   ]
  },
  {
   "cell_type": "code",
   "execution_count": 42,
   "id": "b319f2f4",
   "metadata": {},
   "outputs": [],
   "source": [
    "# Define the details for the database connection\n",
    "host = 'localhost'  # The host server\n",
    "port = '5432'  # The port to connect on\n",
    "database = 'postgres'  # The database to connect to\n",
    "user = 'admin'  # The user to connect as\n",
    "password = 'secret'  # The user's password\n",
    "\n",
    "# Establish a connection to the database using the defined details\n",
    "# psycopg2.connect() returns a new instance of the connection class\n",
    "conn = psycopg2.connect(\n",
    "    host=host,\n",
    "    port=port,\n",
    "    database=database,\n",
    "    user=user,\n",
    "    password=password\n",
    ")"
   ]
  },
  {
   "cell_type": "markdown",
   "id": "732d8e25",
   "metadata": {},
   "source": [
    "### Fetch stickers"
   ]
  },
  {
   "cell_type": "code",
   "execution_count": 43,
   "id": "bb14fe47",
   "metadata": {},
   "outputs": [
    {
     "name": "stdout",
     "output_type": "stream",
     "text": [
      "Current stickers in the database:\n",
      "(20, 'ESP')\n"
     ]
    }
   ],
   "source": [
    "# Create a cursor object from the connection object\n",
    "# The cursor is used to execute SQL commands\n",
    "cursor = conn.cursor()\n",
    "\n",
    "# Define the SQL query to select all stickers, ordered by team and number\n",
    "sql_query = \"SELECT * FROM stickers ORDER BY team ASC, number ASC;\"\n",
    "\n",
    "# Execute the SQL query using the cursor\n",
    "cursor.execute(sql_query)\n",
    "\n",
    "# Fetch all the results of the executed SQL query\n",
    "result = cursor.fetchall()\n",
    "\n",
    "# Print a message indicating the current stickers in the database\n",
    "print(\"Current stickers in the database:\")\n",
    "\n",
    "# Check if the result is empty (i.e., no stickers were found in the database)\n",
    "if len(result) == 0:\n",
    "    print(\"No stickers found in the database.\")\n",
    "\n",
    "# If the result is not empty, print each row in the result\n",
    "for row in result:\n",
    "    print(row)\n",
    "\n",
    "# Close the cursor and the connection to free up resources\n",
    "cursor.close()"
   ]
  },
  {
   "cell_type": "markdown",
   "id": "95132015",
   "metadata": {},
   "source": [
    "### Store sticker to database"
   ]
  },
  {
   "cell_type": "code",
   "execution_count": 44,
   "id": "a7de33b4",
   "metadata": {},
   "outputs": [
    {
     "name": "stdout",
     "output_type": "stream",
     "text": [
      "Sticker already exists in the database.\n"
     ]
    }
   ],
   "source": [
    "# Create a cursor object from the connection object\n",
    "# The cursor is used to execute SQL commands\n",
    "cursor = conn.cursor()\n",
    "\n",
    "# Define the SQL query to check if the sticker exists in the database\n",
    "# The %s placeholders will be replaced by the values of team and number\n",
    "check_query = \"SELECT * FROM stickers WHERE team = %s AND number = %s\"\n",
    "\n",
    "# Execute the SQL query using the cursor\n",
    "cursor.execute(check_query, (sticker.team, sticker.number))\n",
    "\n",
    "# Fetch all the results of the executed SQL query\n",
    "result = cursor.fetchall()\n",
    "\n",
    "# If the result is empty (i.e., the sticker does not exist in the database), insert it\n",
    "if not result:\n",
    "    # Define the SQL query to insert the sticker into the database\n",
    "    insert_query = \"INSERT INTO stickers (team, number) VALUES (%s, %s)\"\n",
    "    \n",
    "    # Execute the SQL query using the cursor\n",
    "    cursor.execute(insert_query, (sticker.team, sticker.number))\n",
    "    \n",
    "    # Commit the transaction to the database\n",
    "    conn.commit()\n",
    "    \n",
    "    # Print a message indicating that the sticker has been added\n",
    "    print(\"Sticker added to the database.\")\n",
    "else:\n",
    "    # Print a message indicating that the sticker already exists\n",
    "    print(\"Sticker already exists in the database.\")\n",
    "\n",
    "# Close the cursor to free up resources\n",
    "cursor.close()"
   ]
  },
  {
   "cell_type": "markdown",
   "id": "2e7ac72e",
   "metadata": {},
   "source": [
    "### Close database connection"
   ]
  },
  {
   "cell_type": "code",
   "execution_count": 45,
   "id": "5e5c0c06",
   "metadata": {},
   "outputs": [],
   "source": [
    "# Close the connection to the database\n",
    "# This is important to free up resources and ensure that all changes have been committed to the database\n",
    "conn.close()"
   ]
  },
  {
   "attachments": {},
   "cell_type": "markdown",
   "id": "9ae0d1fd",
   "metadata": {},
   "source": [
    "### Jupyter notebook --footer info-- (please always provide this at the end of each notebook)"
   ]
  },
  {
   "cell_type": "code",
   "execution_count": 46,
   "id": "bbe81eee",
   "metadata": {},
   "outputs": [
    {
     "name": "stdout",
     "output_type": "stream",
     "text": [
      "-----------------------------------\n",
      "POSIX\n",
      "Darwin | 23.5.0\n",
      "Datetime: 2024-05-27 15:01:55\n",
      "Python Version: 3.10.13\n",
      "-----------------------------------\n"
     ]
    }
   ],
   "source": [
    "import os\n",
    "import platform\n",
    "import socket\n",
    "from platform import python_version\n",
    "from datetime import datetime\n",
    "\n",
    "print('-----------------------------------')\n",
    "print(os.name.upper())\n",
    "print(platform.system(), '|', platform.release())\n",
    "print('Datetime:', datetime.now().strftime(\"%Y-%m-%d %H:%M:%S\"))\n",
    "print('Python Version:', python_version())\n",
    "print('-----------------------------------')"
   ]
  }
 ],
 "metadata": {
  "kernelspec": {
   "display_name": "spenv",
   "language": "python",
   "name": "python3"
  },
  "language_info": {
   "codemirror_mode": {
    "name": "ipython",
    "version": 3
   },
   "file_extension": ".py",
   "mimetype": "text/x-python",
   "name": "python",
   "nbconvert_exporter": "python",
   "pygments_lexer": "ipython3",
   "version": "3.10.13"
  },
  "vscode": {
   "interpreter": {
    "hash": "e88d0147854d95637bfda66d71c1971db493e0eba7c923c8e835cc4382a02720"
   }
  }
 },
 "nbformat": 4,
 "nbformat_minor": 5
}
