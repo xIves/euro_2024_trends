{
 "cells": [
  {
   "cell_type": "code",
   "execution_count": 49,
   "metadata": {},
   "outputs": [
    {
     "name": "stdout",
     "output_type": "stream",
     "text": [
      "Authentifizierung erfolgreich\n"
     ]
    }
   ],
   "source": [
    "import tweepy\n",
    "import pandas as pd\n",
    "import matplotlib.pyplot as plt\n",
    "\n",
    "# Dein Bearer Token\n",
    "\n",
    "\n",
    "api_key = \"-\"\n",
    "api_secret = \"-\"\n",
    "access_token = \"-\"\n",
    "access_token_secret = \"-\"\n",
    "bearer_token = \"-\"\n",
    "\n",
    "\n",
    "auth = tweepy.OAuth1UserHandler(\n",
    "    api_key, api_secret, access_token, access_token_secret)\n",
    "api = tweepy.API(auth)\n",
    "\n",
    "client = tweepy.Client(api_key, api_secret, access_token, access_token_secret)\n",
    "\n",
    "# Teste die Verbindung mit deinem eigenen Twitter-Benutzernamen\n",
    "try:\n",
    "\n",
    "    user = api.verify_credentials()\n",
    "    print(\"Authentifizierung erfolgreich\")\n",
    "except Exception as e:\n",
    "    print(\"Authentifizierung fehlgeschlagen:\", e)"
   ]
  }
 ],
 "metadata": {
  "kernelspec": {
   "display_name": "base",
   "language": "python",
   "name": "python3"
  },
  "language_info": {
   "codemirror_mode": {
    "name": "ipython",
    "version": 3
   },
   "file_extension": ".py",
   "mimetype": "text/x-python",
   "name": "python",
   "nbconvert_exporter": "python",
   "pygments_lexer": "ipython3",
   "version": "3.11.4"
  }
 },
 "nbformat": 4,
 "nbformat_minor": 2
}
