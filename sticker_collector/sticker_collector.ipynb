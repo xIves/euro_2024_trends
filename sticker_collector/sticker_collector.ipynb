{
 "cells": [
  {
   "attachments": {},
   "cell_type": "markdown",
   "id": "deluxe-retention",
   "metadata": {},
   "source": [
    "# Optical Character Recognition (OCR) Topps Sticker"
   ]
  },
  {
   "attachments": {},
   "cell_type": "markdown",
   "id": "unique-laugh",
   "metadata": {},
   "source": [
    "## Libraries and settings"
   ]
  },
  {
   "cell_type": "code",
   "execution_count": 25,
   "id": "narrow-essay",
   "metadata": {},
   "outputs": [
    {
     "name": "stdout",
     "output_type": "stream",
     "text": [
      "/Users/ivesbrunner/Documents/Studium/01_Bachelor/04_Semester/04_ScientificProgramming/euro_2024_trends/sticker_collector\n"
     ]
    }
   ],
   "source": [
    "# Libraries\n",
    "import os\n",
    "import re\n",
    "import cv2\n",
    "import pytesseract\n",
    "from pytesseract import Output\n",
    "import PIL\n",
    "from PIL import Image\n",
    "import fnmatch\n",
    "import tempfile\n",
    "import psycopg2\n",
    "import pandas as pd\n",
    "from sqlalchemy import create_engine\n",
    "\n",
    "# Ignore warnings\n",
    "import warnings\n",
    "warnings.filterwarnings('ignore')\n",
    "\n",
    "# Show current working directory\n",
    "print(os.getcwd())"
   ]
  },
  {
   "attachments": {},
   "cell_type": "markdown",
   "id": "cac6d63a",
   "metadata": {},
   "source": [
    "## Read data from image"
   ]
  },
  {
   "cell_type": "markdown",
   "id": "ce3fbee3",
   "metadata": {},
   "source": [
    "### Open and crop image"
   ]
  },
  {
   "cell_type": "code",
   "execution_count": 26,
   "id": "dead4546",
   "metadata": {},
   "outputs": [],
   "source": [
    "# Open the image\n",
    "image_path = './stickers/sticker_example.jpeg'\n",
    "image = Image.open(image_path)\n",
    "\n",
    "# Crop the image to show only the right half\n",
    "width, height = image.size\n",
    "cropped_image = image.crop((1100, 800, width, height-500))"
   ]
  },
  {
   "cell_type": "markdown",
   "id": "f4428fc8",
   "metadata": {},
   "source": [
    "### Read team and number sticker"
   ]
  },
  {
   "cell_type": "code",
   "execution_count": 27,
   "id": "cb553ddf",
   "metadata": {},
   "outputs": [
    {
     "name": "stdout",
     "output_type": "stream",
     "text": [
      "Found sticker with the following information:\n",
      "Team:  ESP\n",
      "Number:  20\n"
     ]
    }
   ],
   "source": [
    "text = pytesseract.image_to_string(cropped_image, config='--psm 11')\n",
    "\n",
    "# replace all multiple linebreaks to one\n",
    "text = re.sub(r'\\n+', '\\n', text)\n",
    "team = text.split('\\n')[0]\n",
    "number = text.split('\\n')[1]\n",
    "\n",
    "print(\"Found sticker with the following information:\")\n",
    "print(\"Team: \", team)\n",
    "print(\"Number: \", number)"
   ]
  },
  {
   "cell_type": "markdown",
   "id": "piano-council",
   "metadata": {},
   "source": [
    "## Add sticker to collection if not owned yet (Postgres)"
   ]
  },
  {
   "cell_type": "markdown",
   "id": "f2222e2c",
   "metadata": {},
   "source": [
    "### Create database connection"
   ]
  },
  {
   "cell_type": "code",
   "execution_count": 28,
   "id": "b319f2f4",
   "metadata": {},
   "outputs": [],
   "source": [
    "import psycopg2\n",
    "\n",
    "# Database connection details\n",
    "host = 'localhost'\n",
    "port = '5432'\n",
    "database = 'postgres'\n",
    "user = 'admin'\n",
    "password = 'secret'\n",
    "\n",
    "# Establish a connection\n",
    "conn = psycopg2.connect(host=host, port=port, database=database, user=user, password=password)"
   ]
  },
  {
   "cell_type": "markdown",
   "id": "732d8e25",
   "metadata": {},
   "source": [
    "### Fetch stickers"
   ]
  },
  {
   "cell_type": "code",
   "execution_count": 29,
   "id": "bb14fe47",
   "metadata": {},
   "outputs": [
    {
     "name": "stdout",
     "output_type": "stream",
     "text": [
      "Current stickers in the database:\n",
      "(20, 'ESP')\n"
     ]
    }
   ],
   "source": [
    "# Create a cursor object\n",
    "cursor = conn.cursor()\n",
    "\n",
    "# Execute SQL queries\n",
    "cursor.execute(\"SELECT * FROM stickers ORDER BY team ASC, number ASC;\")\n",
    "result = cursor.fetchall()\n",
    "\n",
    "# Print the result\n",
    "print(\"Current stickers in the database:\")\n",
    "\n",
    "if (len(result) == 0):\n",
    "    print(\"No stickers found in the database.\")\n",
    "\n",
    "for row in result:\n",
    "    print(row)\n",
    "\n",
    "# Close the cursor and connection\n",
    "cursor.close()"
   ]
  },
  {
   "cell_type": "markdown",
   "id": "95132015",
   "metadata": {},
   "source": [
    "### Store sticker to database"
   ]
  },
  {
   "cell_type": "code",
   "execution_count": 30,
   "id": "a7de33b4",
   "metadata": {},
   "outputs": [
    {
     "name": "stdout",
     "output_type": "stream",
     "text": [
      "Sticker already exists in the database.\n"
     ]
    }
   ],
   "source": [
    "cursor = conn.cursor()\n",
    "\n",
    "# Check if the sticker exists in the database\n",
    "cursor.execute(\"SELECT * FROM stickers WHERE team = %s AND number = %s\", (team, number))\n",
    "result = cursor.fetchall()\n",
    "\n",
    "# If the sticker does not exist, insert it into the database\n",
    "if not result:\n",
    "    cursor.execute(\"INSERT INTO stickers (team, number) VALUES (%s, %s)\", (team, number))\n",
    "    conn.commit()\n",
    "    print(\"Sticker added to the database.\")\n",
    "else:\n",
    "    print(\"Sticker already exists in the database.\")\n",
    "\n",
    "cursor.close()"
   ]
  },
  {
   "cell_type": "markdown",
   "id": "2e7ac72e",
   "metadata": {},
   "source": [
    "### Close database connection"
   ]
  },
  {
   "cell_type": "code",
   "execution_count": 31,
   "id": "5e5c0c06",
   "metadata": {},
   "outputs": [],
   "source": [
    "\n",
    "conn.close()"
   ]
  },
  {
   "attachments": {},
   "cell_type": "markdown",
   "id": "9ae0d1fd",
   "metadata": {},
   "source": [
    "### Jupyter notebook --footer info-- (please always provide this at the end of each notebook)"
   ]
  },
  {
   "cell_type": "code",
   "execution_count": 32,
   "id": "bbe81eee",
   "metadata": {},
   "outputs": [
    {
     "name": "stdout",
     "output_type": "stream",
     "text": [
      "-----------------------------------\n",
      "POSIX\n",
      "Darwin | 23.5.0\n",
      "Datetime: 2024-05-27 14:38:54\n",
      "Python Version: 3.10.13\n",
      "-----------------------------------\n"
     ]
    }
   ],
   "source": [
    "import os\n",
    "import platform\n",
    "import socket\n",
    "from platform import python_version\n",
    "from datetime import datetime\n",
    "\n",
    "print('-----------------------------------')\n",
    "print(os.name.upper())\n",
    "print(platform.system(), '|', platform.release())\n",
    "print('Datetime:', datetime.now().strftime(\"%Y-%m-%d %H:%M:%S\"))\n",
    "print('Python Version:', python_version())\n",
    "print('-----------------------------------')"
   ]
  }
 ],
 "metadata": {
  "kernelspec": {
   "display_name": "spenv",
   "language": "python",
   "name": "python3"
  },
  "language_info": {
   "codemirror_mode": {
    "name": "ipython",
    "version": 3
   },
   "file_extension": ".py",
   "mimetype": "text/x-python",
   "name": "python",
   "nbconvert_exporter": "python",
   "pygments_lexer": "ipython3",
   "version": "3.10.13"
  },
  "vscode": {
   "interpreter": {
    "hash": "e88d0147854d95637bfda66d71c1971db493e0eba7c923c8e835cc4382a02720"
   }
  }
 },
 "nbformat": 4,
 "nbformat_minor": 5
}
